{
 "cells": [
  {
   "cell_type": "markdown",
   "metadata": {},
   "source": [
    "# Create a Website-Map with all linked Subdomains\n",
    "\n",
    "The crawler visits every subdomain of a website once and stores their connections to each other.\n",
    "Aferwards these connections can be visualised with the program gephi."
   ]
  },
  {
   "cell_type": "code",
   "execution_count": 1,
   "metadata": {
    "collapsed": true
   },
   "outputs": [],
   "source": [
    "from selenium import webdriver\n",
    "from bs4 import BeautifulSoup\n",
    "from random import shuffle\n",
    "import pandas as pd"
   ]
  },
  {
   "cell_type": "code",
   "execution_count": 2,
   "metadata": {
    "collapsed": true
   },
   "outputs": [],
   "source": [
    "url = 'https://www.via-ev.de'\n",
    "domain = '.'+url.split('.')[1]\n",
    "\n",
    "driver = webdriver.Firefox()\n",
    "driver.get(url)\n",
    "\n",
    "html = driver.page_source\n",
    "bs = BeautifulSoup(html, 'lxml')"
   ]
  },
  {
   "cell_type": "code",
   "execution_count": 3,
   "metadata": {
    "collapsed": true
   },
   "outputs": [],
   "source": [
    "def processLinks(bs, sub_url):\n",
    "    for link in bs.findAll('a'):\n",
    "        if 'href' in link.attrs:\n",
    "            link = link['href']\n",
    "            if link=='/':\n",
    "                link = url\n",
    "            if domain in link or 'http' not in link:\n",
    "                if '#' not in link and not link.startswith('mail') and '.jpg' not in link and '.png' not in link and '.jpeg' not in link and '.svg' not in link:\n",
    "                    link = link if domain in link else url+'/'+link if not link.startswith('/') else link[1:]\n",
    "                    link = link if not link.endswith('/') else link[:-1]\n",
    "                    edges.append([sub_url, link])\n",
    "                    if link not in visited_urls and link not in urls_to_visit and '.pdf' not in link:\n",
    "                        urls_to_visit.append(link)"
   ]
  },
  {
   "cell_type": "code",
   "execution_count": 4,
   "metadata": {
    "scrolled": false
   },
   "outputs": [
    {
     "name": "stdout",
     "output_type": "stream",
     "text": [
      "Fehler: leistungen/referenzen\n",
      "Fehler: leistungen/referenzen\n",
      "Fehler: leistungen/referenzen\n"
     ]
    }
   ],
   "source": [
    "edges = []\n",
    "visited_urls = set()\n",
    "urls_to_visit = []\n",
    "\n",
    "visited_urls.add(url)\n",
    "processLinks(bs, url)\n",
    "        \n",
    "while urls_to_visit:\n",
    "    try:\n",
    "        shuffle(urls_to_visit)\n",
    "        sub_url = urls_to_visit.pop()\n",
    "        driver.get(sub_url)\n",
    "        visited_urls.add(sub_url)\n",
    "    \n",
    "        html = driver.page_source\n",
    "        bs = BeautifulSoup(html, 'lxml')\n",
    "        \n",
    "        processLinks(bs, sub_url)\n",
    "        \n",
    "        #print('Pending: {}'.format(len(urls_to_visit)))\n",
    "    except:\n",
    "        print('Fehler: {}'.format(sub_url))\n",
    "\n",
    "driver.close()"
   ]
  },
  {
   "cell_type": "code",
   "execution_count": 5,
   "metadata": {},
   "outputs": [
    {
     "name": "stdout",
     "output_type": "stream",
     "text": [
      "(9517, 4)\n"
     ]
    },
    {
     "data": {
      "text/html": [
       "<div>\n",
       "<style>\n",
       "    .dataframe thead tr:only-child th {\n",
       "        text-align: right;\n",
       "    }\n",
       "\n",
       "    .dataframe thead th {\n",
       "        text-align: left;\n",
       "    }\n",
       "\n",
       "    .dataframe tbody tr th {\n",
       "        vertical-align: top;\n",
       "    }\n",
       "</style>\n",
       "<table border=\"1\" class=\"dataframe\">\n",
       "  <thead>\n",
       "    <tr style=\"text-align: right;\">\n",
       "      <th></th>\n",
       "      <th>Source</th>\n",
       "      <th>Target</th>\n",
       "      <th>Source_Links</th>\n",
       "      <th>Target_Links</th>\n",
       "    </tr>\n",
       "  </thead>\n",
       "  <tbody>\n",
       "    <tr>\n",
       "      <th>0</th>\n",
       "      <td>https://www.via-ev.de</td>\n",
       "      <td>https://www.via-ev.de</td>\n",
       "      <td>59</td>\n",
       "      <td>172</td>\n",
       "    </tr>\n",
       "    <tr>\n",
       "      <th>1</th>\n",
       "      <td>https://www.via-ev.de</td>\n",
       "      <td>https://www.via-ev.de/via</td>\n",
       "      <td>59</td>\n",
       "      <td>172</td>\n",
       "    </tr>\n",
       "    <tr>\n",
       "      <th>2</th>\n",
       "      <td>https://www.via-ev.de</td>\n",
       "      <td>https://www.via-ev.de/via/organisation</td>\n",
       "      <td>59</td>\n",
       "      <td>172</td>\n",
       "    </tr>\n",
       "    <tr>\n",
       "      <th>3</th>\n",
       "      <td>https://www.via-ev.de</td>\n",
       "      <td>https://www.via-ev.de/kontakt/impressum/vorstand</td>\n",
       "      <td>59</td>\n",
       "      <td>172</td>\n",
       "    </tr>\n",
       "    <tr>\n",
       "      <th>4</th>\n",
       "      <td>https://www.via-ev.de</td>\n",
       "      <td>https://www.via-ev.de/via/ressorts</td>\n",
       "      <td>59</td>\n",
       "      <td>172</td>\n",
       "    </tr>\n",
       "  </tbody>\n",
       "</table>\n",
       "</div>"
      ],
      "text/plain": [
       "                  Source                                            Target  \\\n",
       "0  https://www.via-ev.de                             https://www.via-ev.de   \n",
       "1  https://www.via-ev.de                         https://www.via-ev.de/via   \n",
       "2  https://www.via-ev.de            https://www.via-ev.de/via/organisation   \n",
       "3  https://www.via-ev.de  https://www.via-ev.de/kontakt/impressum/vorstand   \n",
       "4  https://www.via-ev.de                https://www.via-ev.de/via/ressorts   \n",
       "\n",
       "   Source_Links  Target_Links  \n",
       "0            59           172  \n",
       "1            59           172  \n",
       "2            59           172  \n",
       "3            59           172  \n",
       "4            59           172  "
      ]
     },
     "execution_count": 5,
     "metadata": {},
     "output_type": "execute_result"
    }
   ],
   "source": [
    "df = pd.DataFrame(edges, columns=['Source', 'Target'])\n",
    "df = df.drop_duplicates()\n",
    "\n",
    "source_links = df['Source'].value_counts().to_frame().to_dict()\n",
    "target_links = df['Target'].value_counts().to_frame().to_dict()\n",
    "\n",
    "df['Source_Links'] = df['Source'].apply(lambda x: source_links['Source'][x])\n",
    "df['Target_Links'] = df['Source'].apply(lambda x: target_links['Target'][x])\n",
    "\n",
    "df.to_csv('build/'+domain[1:]+'_Website_Map_Edges.csv', index=False)\n",
    "print(df.shape)\n",
    "df.head()"
   ]
  },
  {
   "cell_type": "code",
   "execution_count": null,
   "metadata": {
    "collapsed": true
   },
   "outputs": [],
   "source": []
  }
 ],
 "metadata": {
  "kernelspec": {
   "display_name": "Python 3",
   "language": "python",
   "name": "python3"
  },
  "language_info": {
   "codemirror_mode": {
    "name": "ipython",
    "version": 3
   },
   "file_extension": ".py",
   "mimetype": "text/x-python",
   "name": "python",
   "nbconvert_exporter": "python",
   "pygments_lexer": "ipython3",
   "version": "3.6.1"
  }
 },
 "nbformat": 4,
 "nbformat_minor": 2
}
