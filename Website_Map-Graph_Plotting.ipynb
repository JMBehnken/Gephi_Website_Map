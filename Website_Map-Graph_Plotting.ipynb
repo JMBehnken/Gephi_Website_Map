{
 "cells": [
  {
   "cell_type": "markdown",
   "metadata": {},
   "source": [
    "# Create an interactive bokeh Website-Map\n",
    "\n",
    "This notebook processes the graph-svg from gephi and creates an interactive bokeh-plot."
   ]
  },
  {
   "cell_type": "code",
   "execution_count": 1,
   "metadata": {
    "collapsed": true
   },
   "outputs": [],
   "source": [
    "domain = 'via-ev'"
   ]
  },
  {
   "cell_type": "code",
   "execution_count": 2,
   "metadata": {
    "collapsed": true
   },
   "outputs": [],
   "source": [
    "from bokeh.plotting import figure, output_file, show\n",
    "from bokeh.models import HoverTool\n",
    "from bs4 import BeautifulSoup\n",
    "import pandas as pd\n",
    "import re"
   ]
  },
  {
   "cell_type": "code",
   "execution_count": 3,
   "metadata": {},
   "outputs": [],
   "source": [
    "df = pd.read_csv('build/'+domain+'_Website_Map_Edges.csv')\n",
    "source_links = df['Source'].value_counts().to_frame().to_dict()\n",
    "target_links = df['Target'].value_counts().to_frame().to_dict()\n",
    "\n",
    "gephi_svg_path = 'build/'+domain+'.svg'\n",
    "bokeh_html_path = 'build/'+domain+'.html'\n",
    "\n",
    "title = 'Verlinkungen auf der Webseite von {}'.format(domain)"
   ]
  },
  {
   "cell_type": "code",
   "execution_count": 4,
   "metadata": {},
   "outputs": [],
   "source": [
    "with open(gephi_svg_path) as f:\n",
    "    bs = BeautifulSoup(f.read(), 'lxml')"
   ]
  },
  {
   "cell_type": "code",
   "execution_count": 5,
   "metadata": {
    "collapsed": true
   },
   "outputs": [],
   "source": [
    "def lighten_hex(color, factor=0.9):\n",
    "    def hex_to_rgb(value):\n",
    "        \"\"\"Return (red, green, blue) for the color given as #rrggbb.\"\"\"\n",
    "        value = value.lstrip('#')\n",
    "        lv = len(value)\n",
    "        return tuple(int(value[i:i + lv // 3], 16) for i in range(0, lv, lv // 3))\n",
    "\n",
    "    def rgb_to_hex(red, green, blue):\n",
    "        \"\"\"Return color as #rrggbb for the given color values.\"\"\"\n",
    "        return '#%02x%02x%02x' % (red, green, blue)\n",
    "    \n",
    "    rgb = hex_to_rgb(color)\n",
    "    rgb = [int((255-x)*factor+x) for x in rgb]\n",
    "    return rgb_to_hex(*rgb)"
   ]
  },
  {
   "cell_type": "code",
   "execution_count": 6,
   "metadata": {
    "collapsed": true
   },
   "outputs": [],
   "source": [
    "height = int(float(bs.find('svg')['height']))\n",
    "width = int(float(bs.find('svg')['width']))\n",
    "\n",
    "edges = []\n",
    "for path in bs.findAll('path'):\n",
    "    x0, y0, cx0, cy0, cx1, cy1, x1, y1 = re.findall('-?\\d+\\.\\d+',path['d'])\n",
    "    edges.append({'source':path['class'][0], 'target':path['class'][-1], 'x0':float(x0), 'y0':float(y0), 'x1':float(x1), 'y1':float(y1), 'cx0':float(cx0), 'cy0':float(cy0), 'cx1':float(cx1), 'cy1':float(cy1), 'fill':path['fill'], 'stroke':path['stroke'],'stroke_light':lighten_hex(path['stroke']), 'stroke-opacity':float(path['stroke-opacity']), 'stroke-width':float(path['stroke-width'])})\n",
    "df_edges = pd.DataFrame(edges)\n",
    "    \n",
    "nodes = []\n",
    "for circle in bs.findAll('circle'):\n",
    "    nodes.append({'class':circle['class'][0], 'cx':float(circle['cx']), 'cy':float(circle['cy']), 'fill':circle['fill'], 'fill_light':lighten_hex(circle['fill']), 'fill-opacity':float(circle['fill-opacity']), 'r':float(circle['r']), 'stroke':circle['stroke'], 'stroke-opacity':circle['stroke-opacity'], 'stroke-width':circle['stroke-width']})\n",
    "df_nodes = pd.DataFrame(nodes)\n",
    "    \n",
    "node_labels = []\n",
    "for text in bs.findAll('text'):\n",
    "    node_labels.append({'class':text['class'][0], 'fill':text['fill'], 'font-family':text['font-family'], 'font-size':text['font-size'], 'style':text['style'], 'x':float(text['x']), 'y':float(text['y']), 'url':text.get_text().strip()})\n",
    "df_node_labels = pd.DataFrame(node_labels)"
   ]
  },
  {
   "cell_type": "code",
   "execution_count": 7,
   "metadata": {
    "collapsed": true
   },
   "outputs": [],
   "source": [
    "node_dict = {}\n",
    "for i, band in enumerate(df_nodes['class']):\n",
    "    node_dict[band]=i\n",
    "\n",
    "linked_nodes = {}\n",
    "for i, band in enumerate(df_nodes['class']):\n",
    "    l_nodes = df_edges[df_edges['source']==band]['target'].tolist()\n",
    "    l_nodes.append(band)\n",
    "    l_nodes = [node_dict[name] for name in list(node_dict.keys()) if name not in l_nodes]\n",
    "    linked_nodes[i] = l_nodes\n",
    "    \n",
    "linked_edges = {}\n",
    "for band in df_edges['source'].unique():\n",
    "    ind_band = node_dict[band]\n",
    "    ind = df_edges[df_edges['source']!=band]['target'].index.tolist()\n",
    "    linked_edges[ind_band] = ind"
   ]
  },
  {
   "cell_type": "code",
   "execution_count": 8,
   "metadata": {
    "collapsed": true
   },
   "outputs": [],
   "source": [
    "def getLinkCount(url, key):\n",
    "    if key=='Source':\n",
    "        if url in source_links['Source'].keys():\n",
    "            return source_links['Source'][url]\n",
    "        else:\n",
    "            return 0\n",
    "    if key=='Target':\n",
    "        if url in target_links['Target'].keys():\n",
    "            return target_links['Target'][url]\n",
    "        else:\n",
    "            return 0\n",
    "\n",
    "def clean_name(x):\n",
    "    return '/'+x.replace('//', '').split('/', 1)[-1]\n",
    "                                                 \n",
    "df_node_labels['text'] = df_node_labels['url'].apply(clean_name)"
   ]
  },
  {
   "cell_type": "code",
   "execution_count": 9,
   "metadata": {},
   "outputs": [
    {
     "name": "stderr",
     "output_type": "stream",
     "text": [
      "/home/jm/anaconda3/lib/python3.6/site-packages/bokeh/core/json_encoder.py:73: FutureWarning: pandas.tslib is deprecated and will be removed in a future version.\n",
      "You can access Timestamp as pandas.Timestamp\n",
      "  if pd and isinstance(obj, pd.tslib.Timestamp):\n"
     ]
    }
   ],
   "source": [
    "n_x, n_y, n_fill, n_fill_light, n_r = (df_nodes['cx'], -df_nodes['cy'], df_nodes['fill'], df_nodes['fill_light'], df_nodes['r'])\n",
    "e_x0, e_y0, e_x1, e_y1, e_cx0, e_cy0, e_cx1, e_cy1, e_line_color, e_line_color_light, e_line_width, e_source, e_target = (df_edges['x0'], -df_edges['y0'], df_edges['x1'], -df_edges['y1'], df_edges['cx0'], -df_edges['cy0'], df_edges['cx1'], -df_edges['cy1'], df_edges['stroke'], df_edges['stroke_light'], 0.5+df_edges['stroke-width'], df_edges['source'], df_edges['target'])\n",
    "t_text, t_url = (df_node_labels['text'], df_node_labels['url'])\n",
    "\n",
    "hover_alpha = 1.0 \n",
    "no_hover_alpha = 1.0\n",
    "\n",
    "from bokeh.plotting import figure, output_file, show\n",
    "from bokeh.models import ColumnDataSource, Circle, HoverTool, Bezier, Legend, OpenURL, TapTool\n",
    "\n",
    "output_file(bokeh_html_path)\n",
    "\n",
    "p = figure(width=width, height=height, tools=\"pan,wheel_zoom,save,reset,tap\", toolbar_location='above', title=title, active_scroll='wheel_zoom', active_drag='pan')\n",
    "p.axis.visible = False\n",
    "\n",
    "source_edges = ColumnDataSource({'x0':e_x0, 'y0':e_y0, 'x1':e_x1, 'y1':e_y1, 'cx0':e_cx0, 'cy0':e_cy0, 'cx1':e_cx1, 'cy1':e_cy1, 'line_color':e_line_color, 'line_color_light':e_line_color_light, 'line_width':e_line_width, 'source':e_source, 'target':e_target})\n",
    "er = p.bezier(source=source_edges, x0='x0', y0='y0', x1='x1', y1='y1', cx0='cx0', cy0='cy0', cx1='cx1', cy1='cy1', line_color='line_color', line_width='line_width', line_alpha=no_hover_alpha)\n",
    "\n",
    "source_nodes = ColumnDataSource({'x':n_x, 'y':n_y, 'fill':n_fill, 'fill_light':n_fill_light, 'r':n_r, 'url':t_url, 'text':t_text, 'links':[getLinkCount(url, 'Source') for url in t_url], 'backlinks':[getLinkCount(url, 'Target') for url in t_url]})\n",
    "cr = p.circle(source=source_nodes, x='x', y='y', fill_color='fill', fill_alpha=no_hover_alpha, line_color='black', radius='r')\n",
    "\n",
    "tooltips = [(\"Website\", \"@text\"), (\"Links\", \"@links\"), (\"Back-Links\", \"@backlinks\")]\n",
    "p.add_tools(HoverTool(tooltips=tooltips))\n",
    "\n",
    "tap = TapTool()\n",
    "taptool = p.select(type=TapTool)\n",
    "taptool.callback = OpenURL(url='@url')\n",
    "\n",
    "show(p)"
   ]
  },
  {
   "cell_type": "code",
   "execution_count": null,
   "metadata": {
    "collapsed": true
   },
   "outputs": [],
   "source": []
  }
 ],
 "metadata": {
  "kernelspec": {
   "display_name": "Python 3",
   "language": "python",
   "name": "python3"
  },
  "language_info": {
   "codemirror_mode": {
    "name": "ipython",
    "version": 3
   },
   "file_extension": ".py",
   "mimetype": "text/x-python",
   "name": "python",
   "nbconvert_exporter": "python",
   "pygments_lexer": "ipython3",
   "version": "3.6.1"
  }
 },
 "nbformat": 4,
 "nbformat_minor": 2
}
